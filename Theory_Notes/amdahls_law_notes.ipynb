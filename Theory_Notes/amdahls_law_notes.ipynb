{
 "cells": [
  {
   "cell_type": "markdown",
   "metadata": {},
   "source": [
    "Amdahl's Law is a formula that calculates the theoretical speedup in latency of the execution of a task at fixed workload that can be expected when the execution of a task is parallelized. The speedup $S$\n",
    "\n",
    "$S$ is given by the formula:\n",
    "\n",
    "$\n",
    "S = \\frac{1}{(1-P) + \\frac{P}{N}}\n",
    "$\n",
    "\n",
    "Where:\n",
    "\n",
    "* $S$ is the speedup of the execution of the whole task.\n",
    "\n",
    "* $P$ is the proportion of the task that can be parallelized.\n",
    "\n",
    "* $N$ is the number of processing elements (processors) applied to the task.\n",
    "\n",
    "This formula indicates the maximum speedup that can be achieved by parallelizing a computation. The speedup is limited by the sequential portion of the computation that cannot be parallelized, as represented by the term $(1 − P)$ ."
   ]
  },
  {
   "cell_type": "markdown",
   "metadata": {},
   "source": [
    "### Example of speed up limitation due to the sequatial portion:"
   ]
  },
  {
   "cell_type": "markdown",
   "metadata": {},
   "source": [
    "Let's say you have a task that consists of two parts: a parallelizable portion and a non-parallelizable portion. The parallelizable portion takes 40% of the total time, and the non-parallelizable portion takes 60% of the total time.\n",
    "\n",
    "If you parallelize the parallelizable portion using \n",
    "N\n",
    "N processing elements (processors), the speedup you can achieve is limited by the non-parallelizable portion, which is $(1 - P) = (1 - 0.4) = 0.6$.\n",
    "\n",
    "Using Amdahl's Law, the speedup $S$:\n",
    "\n",
    "$\n",
    "S = \\frac{1}{0.6 + \\frac{0.4}{N}}\n",
    "$\n",
    "\n",
    "Let's see how the speedup changes with different numbers of processors:\n",
    "\n",
    "* For $N=1$, the speedup is $S = 1$\n",
    "* For $N=2$, the speedup is $S = 1.25$\n",
    "* For $N=5$, the speedup is $S = 1.47$\n",
    "\n",
    "As you can see, the speedup is limited by the non-parallelizable portion $(1−P)$ of the task. Even with an infinite number of processors, you cannot achieve a speedup greater than $\\frac{1}{0.6} = \\frac{10}{6} \\approx 1.67$ due to the non-parallelizable portion taking 60% of the total time."
   ]
  },
  {
   "cell_type": "markdown",
   "metadata": {},
   "source": [
    "(ChatGPT 3.5, 2024)"
   ]
  },
  {
   "cell_type": "markdown",
   "metadata": {},
   "source": []
  }
 ],
 "metadata": {
  "language_info": {
   "name": "python"
  }
 },
 "nbformat": 4,
 "nbformat_minor": 2
}
